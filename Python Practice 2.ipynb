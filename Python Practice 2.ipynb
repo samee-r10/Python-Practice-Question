{
 "cells": [
  {
   "cell_type": "markdown",
   "id": "6b27ce63",
   "metadata": {},
   "source": [
    "# Python Practice Question"
   ]
  },
  {
   "cell_type": "markdown",
   "id": "e1b34d00",
   "metadata": {},
   "source": [
    "### 1. Count all letters, digits, and special symbols from a given string\n",
    "str1 = \"I@#ma26rt^&ic5us\""
   ]
  },
  {
   "cell_type": "code",
   "execution_count": 14,
   "id": "c3ac6ca5",
   "metadata": {},
   "outputs": [
    {
     "name": "stdout",
     "output_type": "stream",
     "text": [
      "Letter count: 9\n",
      "Digit count: 3\n",
      "Special symbol count: 4\n"
     ]
    }
   ],
   "source": [
    "def count_characters(str1):\n",
    "    letter_count = 0\n",
    "    digit_count = 0\n",
    "    special_count = 0\n",
    "\n",
    "    for char in str1:\n",
    "        if char.isalpha():\n",
    "            letter_count += 1\n",
    "        elif char.isdigit():\n",
    "            digit_count += 1\n",
    "        else:\n",
    "            special_count += 1\n",
    "\n",
    "    return letter_count, digit_count, special_count\n",
    "\n",
    "str1 = \"I@#ma26rt^&ic5us\"\n",
    "letter_count, digit_count, special_count = count_characters(str1)\n",
    "\n",
    "print(\"Letter count:\", letter_count)\n",
    "print(\"Digit count:\", digit_count)\n",
    "print(\"Special symbol count:\", special_count)"
   ]
  },
  {
   "cell_type": "markdown",
   "id": "eaecf85b",
   "metadata": {},
   "source": [
    "### --------------------------------------------------------------------------------------------------------------------------------------------------------------"
   ]
  },
  {
   "cell_type": "markdown",
   "id": "70246c92",
   "metadata": {},
   "source": [
    "### 2. Write a Python program to find numbers divisible by nineteen or thirteen from a list of numbers using Lambda.\n",
    "a=[19, 65, 57, 39, 152, 639, 121, 44, 90, 190]\n"
   ]
  },
  {
   "cell_type": "code",
   "execution_count": 15,
   "id": "02289f5e",
   "metadata": {},
   "outputs": [
    {
     "name": "stdout",
     "output_type": "stream",
     "text": [
      "Numbers divisible by nineteen or thirteen: [19, 65, 57, 39, 152, 190]\n"
     ]
    }
   ],
   "source": [
    "a = [19, 65, 57, 39, 152, 639, 121, 44, 90, 190]\n",
    "\n",
    "divisible_number = list(filter(lambda x: x % 19 == 0 or x % 13 == 0, a))\n",
    "\n",
    "print(\"Numbers divisible by nineteen or thirteen:\", divisible_number)"
   ]
  },
  {
   "cell_type": "markdown",
   "id": "a61c9ebb",
   "metadata": {},
   "source": [
    "### --------------------------------------------------------------------------------------------------------------------------------------------------------------"
   ]
  },
  {
   "cell_type": "markdown",
   "id": "8cc607a2",
   "metadata": {},
   "source": [
    "### 3. Find all of the words in a string that are less than 5 letters.\n",
    "string = \"Practice Problems to Drill List Comprehension in Your Head.\""
   ]
  },
  {
   "cell_type": "code",
   "execution_count": 16,
   "id": "4f2e2883",
   "metadata": {},
   "outputs": [
    {
     "name": "stdout",
     "output_type": "stream",
     "text": [
      "Words less than 5 letters: ['to', 'List', 'in', 'Your']\n"
     ]
    }
   ],
   "source": [
    "string = \"Practice Problems to Drill List Comprehension in Your Head.\"\n",
    "\n",
    "words_less_than_5 = [word for word in string.split() if len(word) <5]\n",
    "\n",
    "print(\"Words less than 5 letters:\", words_less_than_5)"
   ]
  },
  {
   "cell_type": "markdown",
   "id": "ec5427e6",
   "metadata": {},
   "source": [
    "### --------------------------------------------------------------------------------------------------------------------------------------------------------------"
   ]
  },
  {
   "cell_type": "markdown",
   "id": "a8dd517b",
   "metadata": {},
   "source": [
    "### 4. Calculate income tax for the given income by adhering to the below rules:"
   ]
  },
  {
   "cell_type": "code",
   "execution_count": 17,
   "id": "5a1f8a92",
   "metadata": {},
   "outputs": [
    {
     "name": "stdout",
     "output_type": "stream",
     "text": [
      "Income tax payable: 6000.0\n"
     ]
    }
   ],
   "source": [
    "def calculate_income_tax(income):\n",
    "    if income <= 10000:\n",
    "        tax = 0\n",
    "    elif income <= 20000:\n",
    "        tax = (income - 10000) * 0.10\n",
    "    else:\n",
    "        tax = 10000 * 0.10 + (income - 20000) * 0.20\n",
    "    return tax\n",
    "\n",
    "income = 45000\n",
    "tax_payable = calculate_income_tax(income)\n",
    "\n",
    "print(\"Income tax payable:\", tax_payable)"
   ]
  },
  {
   "cell_type": "markdown",
   "id": "a3782f82",
   "metadata": {},
   "source": [
    "### --------------------------------------------------------------------------------------------------------------------------------------------------------------"
   ]
  },
  {
   "cell_type": "markdown",
   "id": "e38b9ab3",
   "metadata": {},
   "source": [
    "### 5. Given below are the list of positive and negative words. Also,a list of tweets is provided. Separate out the positive and negative comments."
   ]
  },
  {
   "cell_type": "code",
   "execution_count": 18,
   "id": "e6be3939",
   "metadata": {},
   "outputs": [
    {
     "name": "stdout",
     "output_type": "stream",
     "text": [
      "Positive comments:\n",
      "This government policies are good\n",
      "The way he played showed that he is one of the best players in the world\n",
      "Her acting in the play was awesome\n",
      "It's nice to hear this little kid's laugh\n",
      "\n",
      "Negative comments:\n",
      "bad implementation\n",
      "The wine tastes awful\n"
     ]
    }
   ],
   "source": [
    "positive = ['good', 'awesome', 'best', 'nice']\n",
    "negative = ['worst', 'awful', 'bad']\n",
    "tweets = [\n",
    "    'This government policies are good',\n",
    "    'bad implementation',\n",
    "    'The way he played showed that he is one of the best players in the world',\n",
    "    'Her acting in the play was awesome',\n",
    "    'The wine tastes awful',\n",
    "    \"It's nice to hear this little kid's laugh\"\n",
    "]\n",
    "\n",
    "positive_comments = []\n",
    "negative_comments = []\n",
    "\n",
    "for tweet in tweets:\n",
    "    words = tweet.split()\n",
    "    if any(word in positive for word in words):\n",
    "        positive_comments.append(tweet)\n",
    "    elif any(word in negative for word in words):\n",
    "        negative_comments.append(tweet)\n",
    "\n",
    "print(\"Positive comments:\")\n",
    "for comment in positive_comments:\n",
    "    print(comment)\n",
    "\n",
    "print(\"\\nNegative comments:\")\n",
    "for comment in negative_comments:\n",
    "    print(comment)"
   ]
  },
  {
   "cell_type": "markdown",
   "id": "74aefb83",
   "metadata": {},
   "source": [
    "### --------------------------------------------------------------------------------------------------------------------------------------------------------------"
   ]
  },
  {
   "cell_type": "markdown",
   "id": "becb6305",
   "metadata": {},
   "source": [
    "### 6. Extend nested list by adding the sublist.\n",
    "\n",
    "You have given a nested list. Write a program to extend it by \n",
    "adding the sublist [\"h\", \"i\", \"j\"] in such a way that it will look \n",
    "like the following list.\n",
    "\n",
    "list1 = [\"a\", \"b\", [\"c\", [\"d\", \"e\", [\"f\", \"g\"], \"k\"], \"l\"], \"m\", \"n\"]\n",
    "\n",
    "sub list to add\n",
    "\n",
    "sub_list = [\"h\", \"i\", \"j\"]\n",
    "\n",
    "expected output =['a', 'b', ['c', ['d', 'e', ['f', 'g', 'h', 'i', 'j'], 'k'], 'l'],'m', 'n']"
   ]
  },
  {
   "cell_type": "code",
   "execution_count": 19,
   "id": "0dbdc810",
   "metadata": {},
   "outputs": [
    {
     "name": "stdout",
     "output_type": "stream",
     "text": [
      "['a', 'b', ['c', ['d', 'e', ['f', 'g', 'h', 'i', 'j'], 'k'], 'l'], 'm', 'n']\n"
     ]
    }
   ],
   "source": [
    "list1 = [\"a\", \"b\", [\"c\", [\"d\", \"e\", [\"f\", \"g\"], \"k\"], \"l\"], \"m\", \"n\"]\n",
    "sub_list = [\"h\", \"i\", \"j\"]\n",
    "\n",
    "# Extend the nested list by adding the sublist\n",
    "list1[2][1][2].extend(sub_list)\n",
    "\n",
    "# Print the extended nested list\n",
    "print(list1)"
   ]
  },
  {
   "cell_type": "markdown",
   "id": "33b81463",
   "metadata": {},
   "source": [
    "### --------------------------------------------------------------------------------------------------------------------------------------------------------------"
   ]
  },
  {
   "cell_type": "markdown",
   "id": "1d0f38eb",
   "metadata": {},
   "source": [
    "### 7. Remove and add item in a list.\n",
    "\n",
    "Write a program to remove the item present at index 4 and \n",
    "add it to the 2nd position and at the end of the list.\n",
    "list1 = [54, 44, 27, 79, 91, 41]"
   ]
  },
  {
   "cell_type": "code",
   "execution_count": 20,
   "id": "1452a832",
   "metadata": {},
   "outputs": [
    {
     "name": "stdout",
     "output_type": "stream",
     "text": [
      "Modified list: [54, 44, 91, 27, 79, 41, 91]\n"
     ]
    }
   ],
   "source": [
    "list1 = [54, 44, 27, 79, 91, 41]\n",
    "\n",
    "# Remove item at index 4\n",
    "item = list1.pop(4)\n",
    "\n",
    "# Add item to the 2nd position\n",
    "list1.insert(2, item)\n",
    "\n",
    "# Add item to the end of the list\n",
    "list1.append(item)\n",
    "\n",
    "print(\"Modified list:\", list1)"
   ]
  },
  {
   "cell_type": "markdown",
   "id": "0d320256",
   "metadata": {},
   "source": [
    "### --------------------------------------------------------------------------------------------------------------------------------------------------------------"
   ]
  },
  {
   "cell_type": "markdown",
   "id": "8e3ab1e3",
   "metadata": {},
   "source": [
    "### 8. Load the iris dataset and Find only those records whose \n",
    "sepal_length = 5.1 and sepal_width = 3.5"
   ]
  },
  {
   "cell_type": "code",
   "execution_count": 21,
   "id": "5cf22e2f",
   "metadata": {},
   "outputs": [
    {
     "name": "stdout",
     "output_type": "stream",
     "text": [
      "    sepal_length  sepal_width  petal_length  petal_width species\n",
      "0            5.1          3.5           1.4          0.2  setosa\n",
      "17           5.1          3.5           1.4          0.3  setosa\n"
     ]
    }
   ],
   "source": [
    "import seaborn as sns\n",
    "\n",
    "# Load the iris dataset\n",
    "iris = sns.load_dataset('iris')\n",
    "\n",
    "# Filter the dataset based on sepal_length and sepal_width\n",
    "filtered_data = iris[(iris['sepal_length'] == 5.1) & (iris['sepal_width'] == 3.5)]\n",
    "\n",
    "# Print the filtered records\n",
    "print(filtered_data)"
   ]
  },
  {
   "cell_type": "markdown",
   "id": "0a1345f1",
   "metadata": {},
   "source": [
    "### --------------------------------------------------------------------------------------------------------------------------------------------------------------"
   ]
  },
  {
   "cell_type": "markdown",
   "id": "29b2f6e7",
   "metadata": {},
   "source": [
    "### 9. Check for Maximum petal_length and convert it in to 7.2 and min petal_length and convert it in to 1.2\n"
   ]
  },
  {
   "cell_type": "code",
   "execution_count": 1,
   "id": "1f948c50",
   "metadata": {
    "scrolled": false
   },
   "outputs": [
    {
     "name": "stdout",
     "output_type": "stream",
     "text": [
      "     sepal_length  sepal_width  petal_length  petal_width    species\n",
      "0             5.1          3.5           1.4          0.2     setosa\n",
      "1             4.9          3.0           1.4          0.2     setosa\n",
      "2             4.7          3.2           1.3          0.2     setosa\n",
      "3             4.6          3.1           1.5          0.2     setosa\n",
      "4             5.0          3.6           1.4          0.2     setosa\n",
      "..            ...          ...           ...          ...        ...\n",
      "145           6.7          3.0           5.2          2.3  virginica\n",
      "146           6.3          2.5           5.0          1.9  virginica\n",
      "147           6.5          3.0           5.2          2.0  virginica\n",
      "148           6.2          3.4           5.4          2.3  virginica\n",
      "149           5.9          3.0           5.1          1.8  virginica\n",
      "\n",
      "[150 rows x 5 columns]\n"
     ]
    }
   ],
   "source": [
    "import seaborn as sns\n",
    "\n",
    "iris = sns.load_dataset('iris')  # Loading the iris dataset using seaborn\n",
    "\n",
    "# Finding the maximum and minimum petal_length\n",
    "max_petal_length = iris['petal_length'].max()\n",
    "min_petal_length = iris['petal_length'].min()\n",
    "\n",
    "# Replacing maximum and minimum petal_length \n",
    "iris.loc[iris['petal_length'] == max_petal_length, 'petal_length'] = 7.2\n",
    "iris.loc[iris['petal_length'] == min_petal_length, 'petal_length'] = 1.2\n",
    "\n",
    "# modified output\n",
    "print(iris)"
   ]
  },
  {
   "cell_type": "markdown",
   "id": "dd7195ec",
   "metadata": {},
   "source": [
    "### --------------------------------------------------------------------------------------------------------------------------------------------------------------"
   ]
  },
  {
   "cell_type": "markdown",
   "id": "e1a4fa02",
   "metadata": {},
   "source": [
    "### 10. Perform right join to combine values based on the 'ID' in the two dataframes."
   ]
  },
  {
   "cell_type": "code",
   "execution_count": 10,
   "id": "839e5530",
   "metadata": {},
   "outputs": [
    {
     "name": "stdout",
     "output_type": "stream",
     "text": [
      "    ID Candidate_Name    Subject       City  Subject_Score\n",
      "0  101           Alex    History      Delhi             89\n",
      "1  102            Amy    English     Mumbai             78\n",
      "2  103          Allen  Geography      Delhi             77\n",
      "3  104          Alice     German    Chennai             87\n",
      "4  105          James    History  Hyderabad             87\n",
      "5  108            NaN        NaN      Delhi             84\n"
     ]
    }
   ],
   "source": [
    "import pandas as pd\n",
    "\n",
    "# Create the first dataframe\n",
    "df1 = pd.DataFrame({'ID': [101, 102, 103, 104, 105, 106, 107],\n",
    "                    'Candidate_Name': ['Alex', 'Amy', 'Allen', 'Alice', 'James', 'Sara', 'Mia'],\n",
    "                    'Subject': ['History', 'English', 'Geography', 'German', 'History', 'German', 'English']})\n",
    "\n",
    "# Create the second dataframe\n",
    "df2 = pd.DataFrame({'ID': [101, 102, 103, 104, 105, 108],\n",
    "                    'City': ['Delhi', 'Mumbai', 'Delhi', 'Chennai', 'Hyderabad', 'Delhi'],\n",
    "                    'Subject_Score': [89, 78, 77, 87, 87, 84]})\n",
    "\n",
    "# Perform the right join\n",
    "merged_df = pd.merge(df1, df2, on='ID', how='right')\n",
    "\n",
    "# Display the merged dataframe\n",
    "print(merged_df)"
   ]
  },
  {
   "cell_type": "code",
   "execution_count": null,
   "id": "3b004a85",
   "metadata": {},
   "outputs": [],
   "source": []
  }
 ],
 "metadata": {
  "kernelspec": {
   "display_name": "Python 3 (ipykernel)",
   "language": "python",
   "name": "python3"
  },
  "language_info": {
   "codemirror_mode": {
    "name": "ipython",
    "version": 3
   },
   "file_extension": ".py",
   "mimetype": "text/x-python",
   "name": "python",
   "nbconvert_exporter": "python",
   "pygments_lexer": "ipython3",
   "version": "3.11.5"
  }
 },
 "nbformat": 4,
 "nbformat_minor": 5
}
