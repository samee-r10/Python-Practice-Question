{
 "cells": [
  {
   "cell_type": "markdown",
   "id": "7f629e74",
   "metadata": {},
   "source": [
    "**1. Write a Python program to print the following string in a specific format.**\n",
    "\n",
    "Sample String : \"Twinkle, twinkle, little star, How I wonder what you are! Up above the world so high, Like a diamond in the sky. Twinkle, twinkle, little star, How I wonder what you are\""
   ]
  },
  {
   "cell_type": "code",
   "execution_count": 1,
   "id": "4bdadfea",
   "metadata": {},
   "outputs": [
    {
     "name": "stdout",
     "output_type": "stream",
     "text": [
      "Twinkle, twinkle, little star,\n",
      "\t How I wonder what you are! \n",
      "\t\t Up above the world so high,\n",
      "\t\t Like a diamond in the sky. \n",
      " Twinkle, twinkle, little star, \n",
      "\t How I wonder what you are\n"
     ]
    }
   ],
   "source": [
    "print(\"Twinkle, twinkle, little star,\\n\\t How I wonder what you are! \\n\\t\\t Up above the world so high,\\n\\t\\t Like a diamond in the sky. \\n Twinkle, twinkle, little star, \\n\\t How I wonder what you are\")"
   ]
  },
  {
   "cell_type": "markdown",
   "id": "f5417bdc",
   "metadata": {},
   "source": [
    "**2. Write a Python program to find out what version of Python you are using.**"
   ]
  },
  {
   "cell_type": "code",
   "execution_count": 2,
   "id": "13d20bc3",
   "metadata": {},
   "outputs": [
    {
     "name": "stdout",
     "output_type": "stream",
     "text": [
      "Python Version\n",
      "3.9.13 (main, Aug 25 2022, 23:51:50) [MSC v.1916 64 bit (AMD64)]\n"
     ]
    }
   ],
   "source": [
    "import sys\n",
    "print(\"Python Version\")\n",
    "print(sys.version)"
   ]
  },
  {
   "cell_type": "markdown",
   "id": "d47f98f3",
   "metadata": {},
   "source": [
    "**3. Write a Python program to display the current date and time.**"
   ]
  },
  {
   "cell_type": "code",
   "execution_count": 3,
   "id": "8e5d316c",
   "metadata": {},
   "outputs": [
    {
     "name": "stdout",
     "output_type": "stream",
     "text": [
      "current date and time:\n",
      "2023-07-21 00:15:30\n"
     ]
    }
   ],
   "source": [
    "import datetime\n",
    "now = datetime.datetime.now()\n",
    "print(\"current date and time:\")\n",
    "print(now.strftime(\"%Y-%m-%d %H:%M:%S\"))"
   ]
  },
  {
   "cell_type": "markdown",
   "id": "ddbb63bf",
   "metadata": {},
   "source": [
    "**4. Write a Python program that calculates the area of a circle based on the radius entered by the user.**"
   ]
  },
  {
   "cell_type": "code",
   "execution_count": 4,
   "id": "33783cd4",
   "metadata": {},
   "outputs": [
    {
     "name": "stdout",
     "output_type": "stream",
     "text": [
      "Enter the radius of a circle21\n",
      "The area of the circle with radius 21.0 is : 1385.4423602330987\n"
     ]
    }
   ],
   "source": [
    "from math import pi\n",
    "radius = float(input(\"Enter the radius of a circle\"))\n",
    "print (\"The area of the circle with radius \" + str(radius) + \" is : \" + str(pi * radius**2))"
   ]
  },
  {
   "cell_type": "markdown",
   "id": "75211152",
   "metadata": {},
   "source": [
    "**5. Write a Python program that accepts the user's first and last name and prints them in reverse order with a space between them.**"
   ]
  },
  {
   "cell_type": "code",
   "execution_count": 5,
   "id": "084171fe",
   "metadata": {},
   "outputs": [
    {
     "name": "stdout",
     "output_type": "stream",
     "text": [
      "Enter the first name: sameer\n",
      "Enter the last name: mishra\n",
      "Enter the middle name: shambhunath\n",
      "Hello mishra sameer shambhunath\n"
     ]
    }
   ],
   "source": [
    "fname = input(\"Enter the first name: \")\n",
    "lname = input(\"Enter the last name: \")\n",
    "mname = input(\"Enter the middle name: \")\n",
    "print(\"Hello \" + lname + \" \" + fname + \" \" + mname)"
   ]
  },
  {
   "cell_type": "markdown",
   "id": "0359a292",
   "metadata": {},
   "source": [
    "**6. Write a Python program that accepts a sequence of comma-separated numbers from the user and generates a list and a tuple of those numbers.**\n",
    "\n",
    "Sample data: 3, 5, 7, 23"
   ]
  },
  {
   "cell_type": "code",
   "execution_count": 6,
   "id": "35681308",
   "metadata": {},
   "outputs": [
    {
     "name": "stdout",
     "output_type": "stream",
     "text": [
      "Input some comma-separated numbers: 2,3,4\n",
      "List: ['2', '3', '4']\n",
      "Tuple: ('2', '3', '4')\n"
     ]
    }
   ],
   "source": [
    "values = input(\"Input some comma-separated numbers: \")\n",
    "list_of_numbers = values.split(\",\")\n",
    "tuple_of_numbers = tuple(list_of_numbers)\n",
    "print('List:', list_of_numbers)\n",
    "print('Tuple:', tuple_of_numbers)"
   ]
  },
  {
   "cell_type": "markdown",
   "id": "2e88ed60",
   "metadata": {},
   "source": [
    "**7. Write a Python program that accepts a filename from the user and prints the extension of the file.**"
   ]
  },
  {
   "cell_type": "code",
   "execution_count": 7,
   "id": "0f3c6dae",
   "metadata": {},
   "outputs": [
    {
     "name": "stdout",
     "output_type": "stream",
     "text": [
      "Input the Filename: sam.com\n",
      "The extension of the file is : 'com'\n"
     ]
    }
   ],
   "source": [
    "filename = input(\"Input the Filename: \")\n",
    "f_extns = filename.split(\".\")\n",
    "print (\"The extension of the file is : \" + repr(f_extns[-1]))"
   ]
  },
  {
   "cell_type": "markdown",
   "id": "b83040e8",
   "metadata": {},
   "source": [
    "**8. Write a Python program to display the first and last colors from the following list.**"
   ]
  },
  {
   "cell_type": "code",
   "execution_count": 10,
   "id": "29041d10",
   "metadata": {},
   "outputs": [
    {
     "name": "stdout",
     "output_type": "stream",
     "text": [
      "Blue Yellow\n"
     ]
    }
   ],
   "source": [
    "#index_po--0-------1--------2---------3--------4---\n",
    "\n",
    "color = [\"Red\", \"Green\", \"Yellow\", \"Orange\", \"Blue\"]\n",
    "print(\"%s %s\"%(color[4], color[2]))"
   ]
  },
  {
   "cell_type": "markdown",
   "id": "7689776d",
   "metadata": {},
   "source": [
    "**9. Write a Python program to display the examination schedule. (extract the date from exam_st_date).**\n",
    "\n",
    "exam_st_date = (11, 12, 2014)"
   ]
  },
  {
   "cell_type": "code",
   "execution_count": 15,
   "id": "8283e6f1",
   "metadata": {},
   "outputs": [
    {
     "name": "stdout",
     "output_type": "stream",
     "text": [
      "the Examination will be start from : 11 / 12 / 2014\n"
     ]
    }
   ],
   "source": [
    "exam_dt = (11,12,2014)\n",
    "print(\"the Examination will be start from : %i / %i / %i\"% exam_dt)"
   ]
  },
  {
   "cell_type": "markdown",
   "id": "e22591f9",
   "metadata": {},
   "source": [
    "**10. Write a Python program that accepts an integer (n) and computes the value of n+nn+nnn.**\n",
    "\n",
    "Sample value of n is 5"
   ]
  },
  {
   "cell_type": "code",
   "execution_count": 24,
   "id": "c003df6f",
   "metadata": {},
   "outputs": [
    {
     "name": "stdout",
     "output_type": "stream",
     "text": [
      "Enter an integer : 10\n",
      "102030\n"
     ]
    }
   ],
   "source": [
    "a = int(input(\"Enter an integer : \"))\n",
    "n1 = int( \"%s\" % a)\n",
    "n2 = int( \"%s%s\" % (a,a) )\n",
    "n3 = int( \"%s%s%s\" % (a,a,a) )\n",
    "print(n1+n2+n3)"
   ]
  },
  {
   "cell_type": "markdown",
   "id": "c6212651",
   "metadata": {},
   "source": [
    "**12. Write a Python program that prints the calendar for a given month and year.**"
   ]
  },
  {
   "cell_type": "code",
   "execution_count": 28,
   "id": "8b21e0bb",
   "metadata": {},
   "outputs": [
    {
     "name": "stdout",
     "output_type": "stream",
     "text": [
      "Enter the year : 2023\n",
      "Enter the Month : 12\n",
      "   December 2023\n",
      "Mo Tu We Th Fr Sa Su\n",
      "             1  2  3\n",
      " 4  5  6  7  8  9 10\n",
      "11 12 13 14 15 16 17\n",
      "18 19 20 21 22 23 24\n",
      "25 26 27 28 29 30 31\n",
      "\n"
     ]
    }
   ],
   "source": [
    "import calendar\n",
    "Y = int(input(\"Enter the year : \"))\n",
    "M = int(input(\"Enter the Month : \"))\n",
    "print(calendar.month(Y, M))"
   ]
  },
  {
   "cell_type": "markdown",
   "id": "b7013973",
   "metadata": {},
   "source": [
    "**13. Write a Python program to print the following 'here document'.**"
   ]
  },
  {
   "cell_type": "code",
   "execution_count": 2,
   "id": "bd55c7cb",
   "metadata": {},
   "outputs": [
    {
     "name": "stdout",
     "output_type": "stream",
     "text": [
      "a string that you that you dont have to escape\n",
      "This\n",
      "is a .......... multi-line \n",
      "heredoc string --------> Example\n",
      "\n"
     ]
    }
   ],
   "source": [
    "print(\"\"\"a string that you that you dont have to escape\n",
    "This\n",
    "is a .......... multi-line \n",
    "heredoc string --------> Example\n",
    "\"\"\")"
   ]
  },
  {
   "cell_type": "markdown",
   "id": "038263e0",
   "metadata": {},
   "source": [
    "**14. Write a Python program to calculate the number of days between two dates.**"
   ]
  },
  {
   "cell_type": "code",
   "execution_count": 6,
   "id": "d95a5e25",
   "metadata": {},
   "outputs": [
    {
     "name": "stdout",
     "output_type": "stream",
     "text": [
      "7897\n"
     ]
    }
   ],
   "source": [
    "from datetime import date\n",
    "fdate = date(2001, 12, 10)\n",
    "ldate = date(2023, 7, 25)\n",
    "delta = ldate - fdate\n",
    "print(delta.days)"
   ]
  },
  {
   "cell_type": "markdown",
   "id": "61503fe0",
   "metadata": {},
   "source": [
    "**15. Write a Python program to get the volume of a sphere with radius six.**"
   ]
  },
  {
   "cell_type": "code",
   "execution_count": 12,
   "id": "0beef805",
   "metadata": {},
   "outputs": [
    {
     "name": "stdout",
     "output_type": "stream",
     "text": [
      "The volume of the sphere is : 904.608\n"
     ]
    }
   ],
   "source": [
    "pi = 3.141\n",
    "r = 6.0\n",
    "V = 4.0/3.0*pi* r**3\n",
    "print(\"The volume of the sphere is :\", V)"
   ]
  },
  {
   "cell_type": "markdown",
   "id": "c0521bce",
   "metadata": {},
   "source": [
    "**16. Write a Python program to calculate the difference between a given number and 17. If the number is greater \n",
    "than 17, return twice the absolute difference.**"
   ]
  },
  {
   "cell_type": "code",
   "execution_count": 16,
   "id": "bee79caa",
   "metadata": {},
   "outputs": [
    {
     "name": "stdout",
     "output_type": "stream",
     "text": [
      "10\n",
      "3\n"
     ]
    }
   ],
   "source": [
    "def difference(n):\n",
    "    if n <= 17:\n",
    "        return 17 - n\n",
    "    else:\n",
    "        return (n - 17) * 2\n",
    "    \n",
    "print(difference(22))\n",
    "print(difference(14))"
   ]
  },
  {
   "cell_type": "markdown",
   "id": "baccbc74",
   "metadata": {},
   "source": [
    "**17. Write a Python program to test whether a number is within 100 of 1000 or 2000.**"
   ]
  },
  {
   "cell_type": "code",
   "execution_count": 26,
   "id": "82d845ea",
   "metadata": {},
   "outputs": [
    {
     "name": "stdout",
     "output_type": "stream",
     "text": [
      "True\n",
      "True\n",
      "False\n",
      "False\n"
     ]
    }
   ],
   "source": [
    "def near_thousand(n):\n",
    "      return ((abs(1000 - n) <= 100) or (abs(2000 - n) <= 100))\n",
    "print(near_thousand(1000))\n",
    "print(near_thousand(900))\n",
    "print(near_thousand(800))\n",
    "print(near_thousand(500))"
   ]
  },
  {
   "cell_type": "markdown",
   "id": "9dcea2b5",
   "metadata": {},
   "source": [
    "**18. Write a Python program to calculate the sum of three given numbers. If the values are equal, return three times their sum.**"
   ]
  },
  {
   "cell_type": "code",
   "execution_count": 29,
   "id": "169ce9cb",
   "metadata": {},
   "outputs": [
    {
     "name": "stdout",
     "output_type": "stream",
     "text": [
      "6\n",
      "27\n"
     ]
    }
   ],
   "source": [
    "def sum_thrice(x, y, z):\n",
    "    \n",
    "    sum = (x + y + z)\n",
    "    \n",
    "    if x == y == z:\n",
    "     sum = sum*3\n",
    "    return sum\n",
    "\n",
    "print(sum_thrice(1,2,3))\n",
    "print(sum_thrice(3,3,3)) # this value is equal to each other that's why its give 27 in output."
   ]
  },
  {
   "cell_type": "markdown",
   "id": "4b8d0023",
   "metadata": {},
   "source": [
    "**19. Write a program which will find all such numbers which are divisible by 7 but are not a multiple of 5, between 2000 and 3200 (both included). The numbers obtained should be printed in a comma-separated sequence on a single line.**"
   ]
  },
  {
   "cell_type": "code",
   "execution_count": 13,
   "id": "6c1fc54e",
   "metadata": {},
   "outputs": [
    {
     "name": "stdout",
     "output_type": "stream",
     "text": [
      "2002,2009,2016,2023,2037,2044,2051,2058,2072,2079,2086,2093,2107,2114,2121,2128,2142,2149,2156,2163,2177,2184,2191,2198,2212,2219,2226,2233,2247,2254,2261,2268,2282,2289,2296,2303,2317,2324,2331,2338,2352,2359,2366,2373,2387,2394,2401,2408,2422,2429,2436,2443,2457,2464,2471,2478,2492,2499,2506,2513,2527,2534,2541,2548,2562,2569,2576,2583,2597,2604,2611,2618,2632,2639,2646,2653,2667,2674,2681,2688,2702,2709,2716,2723,2737,2744,2751,2758,2772,2779,2786,2793,2807,2814,2821,2828,2842,2849,2856,2863,2877,2884,2891,2898,2912,2919,2926,2933,2947,2954,2961,2968,2982,2989,2996,3003,3017,3024,3031,3038,3052,3059,3066,3073,3087,3094,3101,3108,3122,3129,3136,3143,3157,3164,3171,3178,3192,3199\n"
     ]
    }
   ],
   "source": [
    "list = []\n",
    "for i in range (2000, 3200):\n",
    "    if i%7==0 and i%5 !=0:\n",
    "#        print(i)\n",
    "        list.append(str(i))\n",
    "    \n",
    "print(','.join(list))"
   ]
  },
  {
   "cell_type": "markdown",
   "id": "d9ebda23",
   "metadata": {},
   "source": [
    "**20. Write a program which can compute the factorial of a given numbers. The results should be printed in a comma-separated sequence on a single line. Suppose the following input is supplied to the program: 8 Then, the output should be: 40320**\n",
    "\n",
    "Hints: In case of input data being supplied to the question, it should be assumed to be a console input."
   ]
  },
  {
   "cell_type": "code",
   "execution_count": 16,
   "id": "c19b4613",
   "metadata": {},
   "outputs": [
    {
     "data": {
      "text/plain": [
       "720"
      ]
     },
     "execution_count": 16,
     "metadata": {},
     "output_type": "execute_result"
    }
   ],
   "source": [
    "def fact(x):\n",
    "    if x == 0:\n",
    "        return 1\n",
    "    else:\n",
    "        return x*fact(x-1)\n",
    "    \n",
    "fact(6)"
   ]
  },
  {
   "cell_type": "markdown",
   "id": "0a455d1e",
   "metadata": {},
   "source": [
    "**21. With a given integral number n, write a program to generate a dictionary that contains (i, i*i) such that is an integral number between 1 and n (both included). and then the program should print the dictionary. Suppose the following input is supplied to the program: 8 Then, the output should be: {1: 1, 2: 4, 3: 9, 4: 16, 5: 25, 6: 36, 7: 49, 8: 64}**\n",
    "\n",
    "Hints: In case of input data being supplied to the question, it should be assumed to be a console input. Consider use dict()"
   ]
  },
  {
   "cell_type": "code",
   "execution_count": 11,
   "id": "eaeba0f5",
   "metadata": {},
   "outputs": [
    {
     "name": "stdout",
     "output_type": "stream",
     "text": [
      "8\n",
      "{1: 1, 2: 4, 3: 9, 4: 16, 5: 25, 6: 36, 7: 49, 8: 64}\n"
     ]
    }
   ],
   "source": [
    "# Solution 1\n",
    "\n",
    "n = int(input())\n",
    "d = dict()\n",
    "\n",
    "for i in range(1, n+1):\n",
    "    d[i]=i*i\n",
    "    \n",
    "print(d)"
   ]
  },
  {
   "cell_type": "code",
   "execution_count": 10,
   "id": "e900bc50",
   "metadata": {},
   "outputs": [
    {
     "name": "stdout",
     "output_type": "stream",
     "text": [
      "8\n",
      "{1: 1, 2: 4, 3: 9, 4: 16, 5: 25, 6: 36, 7: 49, 8: 64}\n"
     ]
    }
   ],
   "source": [
    "# Solution 2\n",
    "\n",
    "n = int(input())\n",
    "d = {x:x*x for x in range (1, n+1)}\n",
    "\n",
    "print(d)"
   ]
  },
  {
   "cell_type": "markdown",
   "id": "20840ee1",
   "metadata": {},
   "source": [
    "**22. Write a program which accepts a sequence of comma-separated numbers from console and generate a list and a tuple which contains every number. Suppose the following input is supplied to the program: 34,67,55,33,12,98 Then, the output should be: ['34', '67', '55', '33', '12', '98'] ('34', '67', '55', '33', '12', '98')**\n",
    "\n",
    "Hints: In case of input data being supplied to the question, it should be assumed to be a console input. tuple() method can convert list to tuple."
   ]
  },
  {
   "cell_type": "code",
   "execution_count": 19,
   "id": "c15bff6a",
   "metadata": {},
   "outputs": [
    {
     "name": "stdout",
     "output_type": "stream",
     "text": [
      "34,67,55,33,12,98\n",
      "List of value :['34', '67', '55', '33', '12', '98']\n",
      "tuple of value :('34', '67', '55', '33', '12', '98')\n"
     ]
    }
   ],
   "source": [
    "values = input()\n",
    "l = values.split(\",\")\n",
    "t = tuple(l)\n",
    "print(f\"List of value :{l}\")\n",
    "print(f\"tuple of value :{t}\")"
   ]
  },
  {
   "cell_type": "markdown",
   "id": "d9476732",
   "metadata": {},
   "source": [
    "**23. Define a class which has at least two methods: getString: to get a string from console input printString: to print the string in upper case. Also please include simple test function to test the class methods.**\n",
    "\n",
    "Hints: Use init method to construct some parameters"
   ]
  },
  {
   "cell_type": "code",
   "execution_count": 31,
   "id": "960a95c1",
   "metadata": {},
   "outputs": [
    {
     "name": "stdout",
     "output_type": "stream",
     "text": [
      "abcdef\n",
      "ABCDEF\n"
     ]
    }
   ],
   "source": [
    "class InputOutString:\n",
    "    def __init__(self):\n",
    "        self.s = \"\"\n",
    "\n",
    "    def getString(self):\n",
    "        self.s = input()\n",
    "\n",
    "    def printString(self):\n",
    "        print(self.s.upper())\n",
    "        \n",
    "a = InputOutString()\n",
    "a.getString()\n",
    "a.printString()    "
   ]
  },
  {
   "cell_type": "markdown",
   "id": "8a943644",
   "metadata": {},
   "source": [
    "**24. Write a program that calculates and prints the value according to the given formula: Q = Square root of [(2 * C * D)/H] Following are the fixed values of C and H: C is 50. H is 30. D is the variable whose values should be input to your program in a comma-separated sequence. Example Let us assume the following comma separated input sequence is given to the program: 100,150,180 The output of the program should be: 18,22,24**\n",
    "\n",
    "Hints: If the output received is in decimal form, it should be rounded off to its nearest value (for example, if the output received is 26.0, it should be printed as 26) In case of input data being supplied to the question, it should be assumed to be a console input."
   ]
  },
  {
   "cell_type": "code",
   "execution_count": 40,
   "id": "503979e3",
   "metadata": {},
   "outputs": [
    {
     "name": "stdout",
     "output_type": "stream",
     "text": [
      "Input numbers comma separated : 100,150,180\n",
      "18,22,24\n"
     ]
    }
   ],
   "source": [
    "import math\n",
    "\n",
    "c = 50\n",
    "h = 30\n",
    "value = []\n",
    "items = [x for x in input(\"Input numbers comma separated : \").split(',')]\n",
    "\n",
    "for d in items:\n",
    "    value.append(str(int(round(math.sqrt(2*c*float(d)/h)))))\n",
    "    \n",
    "print(','.join(value))"
   ]
  },
  {
   "cell_type": "markdown",
   "id": "89fcb697",
   "metadata": {},
   "source": [
    "**25. Write a program which takes 2 digits, X,Y as input and generates a 2-dimensional array. The element value in the i-th row and j-th column of the array should be i*j. Note: i=0,1.., X-1; j=0,1,¡­Y-1. Example Suppose the following inputs are given to the program: 3,5 Then, the output of the program should be: [[0, 0, 0, 0, 0], [0, 1, 2, 3, 4], [0, 2, 4, 6, 8]]**\n",
    "\n",
    "Hints: Note: In case of input data being supplied to the question, it should be assumed to be a console input in a comma-separated form."
   ]
  },
  {
   "cell_type": "code",
   "execution_count": 51,
   "id": "3e6b90c0",
   "metadata": {},
   "outputs": [
    {
     "name": "stdout",
     "output_type": "stream",
     "text": [
      "3,4\n",
      "[[0, 0, 0, 0], [4, 4, 4, 4], [8, 8, 8, 8]]\n"
     ]
    }
   ],
   "source": [
    "input_str = input()\n",
    "dimensions = [int(x) for x in input_str.split(',')]\n",
    "\n",
    "row = dimensions[0]\n",
    "column = dimensions[1]\n",
    "\n",
    "multilist = [[0 for col in range (column)] for row in range (row)]\n",
    "\n",
    "for row in range(row):\n",
    "    for col in range (column):\n",
    "        multilist[row][col] = row*column\n",
    "        \n",
    "print(multilist)   # 3,4 = 3 list for 4 numbers."
   ]
  },
  {
   "cell_type": "markdown",
   "id": "e5715e08",
   "metadata": {},
   "source": [
    "### --------------------------------------------------------->> Please prefer Next File ---------------------------------------------------------------------"
   ]
  }
 ],
 "metadata": {
  "kernelspec": {
   "display_name": "Python 3 (ipykernel)",
   "language": "python",
   "name": "python3"
  },
  "language_info": {
   "codemirror_mode": {
    "name": "ipython",
    "version": 3
   },
   "file_extension": ".py",
   "mimetype": "text/x-python",
   "name": "python",
   "nbconvert_exporter": "python",
   "pygments_lexer": "ipython3",
   "version": "3.11.5"
  }
 },
 "nbformat": 4,
 "nbformat_minor": 5
}
